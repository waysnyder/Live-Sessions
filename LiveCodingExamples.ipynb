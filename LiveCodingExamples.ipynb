{
 "cells": [
  {
   "cell_type": "markdown",
   "id": "44958aa7",
   "metadata": {},
   "source": [
    "## Tips and Tricks for Jupyter Notesbooks"
   ]
  },
  {
   "cell_type": "markdown",
   "id": "2656a684",
   "metadata": {},
   "source": [
    "1. Learn and use the keyboard shortcuts!\n",
    "\n",
    "Examples:\n",
    "\n",
    "        Select all text in a cell (Cmd a on a mac)\n",
    "        Add new cell (move cursor below current cell and click +Code or +Markdown,\n",
    "                       or click to left of cell, then A to add above or B to add below)\n",
    "        Double click in a markdown cell to modify it\n",
    "        Indentation and Outdentation (tab and shift-tab)\n",
    "        Comment In/Out (command /)\n",
    "        \n",
    "        Run cell  (shift return)\n",
    "\n",
    "        etc.\n"
   ]
  },
  {
   "cell_type": "markdown",
   "id": "e32f058d",
   "metadata": {},
   "source": [
    "Here is a notebook which will allow you to practice shortcuts:\n",
    "\n",
    "https://github.com/maxmelnick/jupyter_keyboard_shortcuts_snippets/blob/master/Jupyter%20Keyboard%20Shortcuts%20Practice.ipynb\n",
    "\n",
    "\n",
    "Here is a more extensive presentation of useful keyboard shortcuts\n",
    "\n",
    "https://www.dataquest.io/blog/jupyter-notebook-tips-tricks-shortcuts/#:~:text=D%20%2B%20D%20(press%20the%20key,to%20delete%20the%20current%20cell"
   ]
  },
  {
   "cell_type": "markdown",
   "id": "df1ca2b8",
   "metadata": {},
   "source": [
    "2. Warning:  If you delete code in a cell, you can retrieve it using Undo (Ctr-z); if you delete or move a cell in Codespaces, you can Undo the action as well. However, on MY local machine, this does not work.  So think carefully before you delete a cell. If you are not sure whether you want a cell, comment out the whole cell instead of deleting. You can clean up the code before you submit. "
   ]
  },
  {
   "cell_type": "markdown",
   "id": "3f23b469",
   "metadata": {},
   "source": [
    "test"
   ]
  },
  {
   "cell_type": "markdown",
   "id": "f3048dad",
   "metadata": {},
   "source": [
    "3. Python (unfortunately) allows you to *redefine* system variable and function names. Do NOT use the following for variables, as they are already defined as functions!\n",
    "\n",
    "        sum\n",
    "        list \n",
    "        mean\n",
    "        dict\n",
    "        max\n",
    "        min\n",
    "        len\n",
    "        str\n",
    "        \n",
    "\n",
    "When in doubt, type in the name in a cell and execute that cell to see if it has a binding. \n",
    "\n",
    "If you make this mistake, you can remove the binding using the function `del` or Kill and Restart Kernel. "
   ]
  },
  {
   "cell_type": "code",
   "execution_count": 1,
   "id": "3bfdfd7f",
   "metadata": {},
   "outputs": [],
   "source": [
    "sum = 4"
   ]
  },
  {
   "cell_type": "markdown",
   "id": "e7a486cf",
   "metadata": {},
   "source": [
    "4.  When things go a little sideways or code is taking too long to finish:  \n",
    "\n",
    "        Interrupt Kernel  \n",
    "        \n",
    "When things go really sideways (like you just redefined `sum`):\n",
    "\n",
    "        Restart\n",
    "        Restart and Clear Output\n",
    "        Restart and Run All\n",
    "\n",
    "<b>ALWAYS `Restart and Run All` to check that your code works before submitting!</b>"
   ]
  },
  {
   "cell_type": "markdown",
   "id": "a0e5fad4",
   "metadata": {},
   "source": [
    "5. Jupyter keeps a global list of variable bindings. "
   ]
  },
  {
   "cell_type": "code",
   "execution_count": 8,
   "id": "670ec52e",
   "metadata": {},
   "outputs": [
    {
     "name": "stdout",
     "output_type": "stream",
     "text": [
      "dict_keys(['__name__', '__doc__', '__package__', '__loader__', '__spec__', '__builtin__', '__builtins__', '_ih', '_oh', '_dh', 'In', 'Out', 'get_ipython', 'exit', 'quit', 'open', '_', '__', '___', '__vsc_ipynb_file__', '_i', '_ii', '_iii', '_i1', '_i2', 'sum', '_i3', '_i4', '_i5', '_5', '_i6', 'test_y', '_i7', '_i8'])\n"
     ]
    }
   ],
   "source": [
    "globals().keys()"
   ]
  },
  {
   "cell_type": "markdown",
   "id": "070cfe0b",
   "metadata": {},
   "source": [
    "There are various HORRIBLE, CONFUSING bugs that can result from this:\n"
   ]
  },
  {
   "cell_type": "code",
   "execution_count": null,
   "id": "61882fb8",
   "metadata": {
    "scrolled": false
   },
   "outputs": [],
   "source": []
  },
  {
   "cell_type": "code",
   "execution_count": null,
   "id": "7b498414",
   "metadata": {},
   "outputs": [],
   "source": []
  },
  {
   "cell_type": "code",
   "execution_count": null,
   "id": "f950288d",
   "metadata": {},
   "outputs": [],
   "source": []
  },
  {
   "cell_type": "code",
   "execution_count": null,
   "id": "c6b6961d",
   "metadata": {},
   "outputs": [],
   "source": []
  },
  {
   "cell_type": "markdown",
   "id": "f8e3733f",
   "metadata": {},
   "source": [
    "**Solutions:**\n",
    "\n",
    "    Don't reuse global variables between cells.\n",
    "    \n",
    "    Don't get in the habit of using simple variables x, y, tmp etc. in multiple cells. Use x1, x2, x3, ...\n",
    "    \n",
    "    In our assignments, we use q1, q2, q3, etc.   Don't reuse these in other cells!\n",
    "\n",
    "    Wrap everything in a function (then the variables are local and not shared between cells). \n",
    "    \n",
    "Always `Restart` if you suspect there is a problem, and always do `Restart and Run All` before submitting!"
   ]
  },
  {
   "cell_type": "code",
   "execution_count": 6,
   "id": "eee9bb14",
   "metadata": {},
   "outputs": [
    {
     "name": "stdout",
     "output_type": "stream",
     "text": [
      "there\n"
     ]
    }
   ],
   "source": [
    "def test_y():\n",
    "    y = 5                           # local variable, does not go in the global list\n",
    "    if(y > 5):\n",
    "        print('hi')\n",
    "    else:\n",
    "        print('there')\n",
    "        \n",
    "test_y()"
   ]
  },
  {
   "cell_type": "code",
   "execution_count": 7,
   "id": "4d9d380a",
   "metadata": {},
   "outputs": [
    {
     "ename": "NameError",
     "evalue": "name 'y' is not defined",
     "output_type": "error",
     "traceback": [
      "\u001b[0;31m---------------------------------------------------------------------------\u001b[0m",
      "\u001b[0;31mNameError\u001b[0m                                 Traceback (most recent call last)",
      "Cell \u001b[0;32mIn[7], line 1\u001b[0m\n\u001b[0;32m----> 1\u001b[0m \u001b[43my\u001b[49m\n",
      "\u001b[0;31mNameError\u001b[0m: name 'y' is not defined"
     ]
    }
   ],
   "source": [
    "y"
   ]
  },
  {
   "cell_type": "markdown",
   "id": "e8436121",
   "metadata": {},
   "source": [
    "## Live Coding\n",
    "\n",
    "Now I'd like to do some coding to illustrate some ideas from last week and the coming week. \n",
    "\n",
    "The task at hand is to explore the efficiency of lists and sets, by creating a graph of the asymptotic complexity (the growth of execution time as the data structure gets larger and larger). "
   ]
  },
  {
   "cell_type": "markdown",
   "id": "0e409d45",
   "metadata": {},
   "source": [
    "The next cell times the creation of lists and sets all at once (AAO). \n",
    "\n",
    "To use the progress-bar library tqdm, you first need to install it as follows. "
   ]
  },
  {
   "cell_type": "code",
   "execution_count": 8,
   "id": "7bf7c3f2",
   "metadata": {},
   "outputs": [
    {
     "name": "stdout",
     "output_type": "stream",
     "text": [
      "Collecting tqdm\n",
      "  Downloading tqdm-4.66.5-py3-none-any.whl.metadata (57 kB)\n",
      "Downloading tqdm-4.66.5-py3-none-any.whl (78 kB)\n",
      "Installing collected packages: tqdm\n",
      "Successfully installed tqdm-4.66.5\n"
     ]
    }
   ],
   "source": [
    "!pip install tqdm"
   ]
  },
  {
   "cell_type": "code",
   "execution_count": 9,
   "id": "f1d6a44d",
   "metadata": {
    "code_folding": []
   },
   "outputs": [
    {
     "name": "stderr",
     "output_type": "stream",
     "text": [
      "  0%|          | 0/100 [00:00<?, ?it/s]"
     ]
    },
    {
     "name": "stderr",
     "output_type": "stream",
     "text": [
      "100%|██████████| 100/100 [00:20<00:00,  4.78it/s]\n"
     ]
    },
    {
     "data": {
      "image/png": "[encoded data removed]",
      "text/plain": [
       "<Figure size 800x400 with 1 Axes>"
      ]
     },
     "metadata": {},
     "output_type": "display_data"
    }
   ],
   "source": [
    "import timeit\n",
    "import matplotlib.pyplot as plt\n",
    "\n",
    "from tqdm import tqdm \n",
    "\n",
    "# Function to simply create a list of size n\n",
    "def create_list_AAO(n):\n",
    "    lst = list(range(n))\n",
    "\n",
    "# Function to simply create a set of size n\n",
    "def create_set_AAO(n):\n",
    "    s = set(range(n))\n",
    "\n",
    "# Lists to store results\n",
    "list_times_AAO = []\n",
    "set_times_AAO = []\n",
    "\n",
    "sizes = list(range(0,10**4,100))        # 0, 100, 200, ..., 10**4-100\n",
    "\n",
    "n_iterations = 1000                      # how many iterations to average over\n",
    "\n",
    "# Measure the time for each input size\n",
    "\n",
    "# for size in sizes:\n",
    "for size in tqdm(sizes):\n",
    "\n",
    "    list_time = timeit.timeit(lambda: create_list_AAO(size), number=n_iterations)\n",
    "    set_time  = timeit.timeit(lambda: create_set_AAO(size),  number=n_iterations)\n",
    "    \n",
    "    # be sure to normalize by num_iterations\n",
    "    list_times_AAO.append(list_time/n_iterations)   \n",
    "    set_times_AAO.append(set_time  /n_iterations)\n",
    "\n",
    "# Plotting the results\n",
    "plt.figure(figsize=(8, 4))\n",
    "\n",
    "plt.title('Time to Create a List vs a List Comprehension vs a Set; All-At-Once')\n",
    "plt.plot(sizes, list_times_AAO, label=\"List \")\n",
    "plt.plot(sizes, set_times_AAO,  label=\"Set \")\n",
    "\n",
    "plt.xlabel('Number of Elements (n)')\n",
    "plt.ylabel('Time (seconds)')\n",
    "plt.legend()\n",
    "plt.grid(True)\n",
    "plt.show()\n"
   ]
  },
  {
   "cell_type": "markdown",
   "id": "cdd041af",
   "metadata": {},
   "source": [
    "### Digression on Checkpoint Files\n",
    "\n",
    "A very useful technique, which we will use when doing long computations in Modules 3 and 4, is to save\n",
    "your results in a CSV file, and then when running the code again, we'll check if we saved it. If it isn't there, this is the first time running that code; if it is, we **don't run the code** but simply load the data from the file. \n",
    "\n",
    "If you are running on your own machine, you can save/read in the local directory the notebook lives in. If you are running in Codespaces, you should use the\n",
    "directory `/workspaces/` in the current repo, which has the appropriate permissions to allow you to read and write from your notebook. \n",
    "\n",
    "\n",
    "This is a nice example of why CSV and TSV files are so useful. "
   ]
  },
  {
   "cell_type": "code",
   "execution_count": null,
   "id": "62e22a26",
   "metadata": {},
   "outputs": [],
   "source": [
    "import os\n",
    "import csv\n",
    "\n",
    "# Specify the filename you want to check\n",
    "\n",
    "working_directory = '/workspaces/'      # for Codespaces\n",
    "# working_directory = './'                # for local machine\n",
    "\n",
    "file_path_list = working_directory + 'list_times_AAO.csv'\n",
    "file_path_set  = working_directory + 'set_times_AAO.csv'\n",
    "\n",
    "# Check if the files exist in the current directory\n",
    "if os.path.isfile(file_path_list) and os.path.isfile(file_path_list):\n",
    "\n",
    "    with open(file_path_list, 'r') as file:\n",
    "        reader = csv.reader(file)\n",
    "        # Reading the first row as strings and converting it to a list of integers\n",
    "        list_times_AAO = list(map(int, next(reader)))\n",
    "        \n",
    "    with open(file_path_set, 'r') as file:\n",
    "        reader = csv.reader(file)\n",
    "        set_times_AAO = list(map(int, next(reader)))\n",
    "        \n",
    "else:\n",
    "    # Function to simply create a list of size n\n",
    "    def create_list_AAO(n):\n",
    "        lst = list(range(n))\n",
    "\n",
    "    # Function to simply create a list of size n using list comprehension\n",
    "    def create_list_comprehension_AAO(n):\n",
    "        lst = [k for k in range(n)]\n",
    "\n",
    "    # Function to simply create a set of size n\n",
    "    def create_set_AAO(n):\n",
    "        s = set(range(n))\n",
    "\n",
    "    # Lists to store results\n",
    "    list_times_AAO = []\n",
    "    set_times_AAO = []\n",
    "\n",
    "    sizes = list(range(0,10**4,100))        # 0, 100, 200, ..., 10**4\n",
    "\n",
    "    n_iterations = 1000                      # how many iterations to average over\n",
    "\n",
    "    # Measure the time for each input size\n",
    "\n",
    "    for size in sizes:\n",
    "    # for size in tqdm(sizes):\n",
    "\n",
    "        list_time = timeit.timeit(lambda: create_list_AAO(size), number=n_iterations)\n",
    "        set_time  = timeit.timeit(lambda: create_set_AAO(size),  number=n_iterations)\n",
    "\n",
    "        # be sure to normalize by num_iterations\n",
    "        list_times_AAO.append(list_time/n_iterations)   \n",
    "        set_times_AAO.append(set_time  /n_iterations)\n",
    "\n",
    "    # Saving the checkpoint files\n",
    "\n",
    "    # Save as a CSV file\n",
    "    with open(file_path_list, 'w', newline='') as file:\n",
    "        writer = csv.writer(file)\n",
    "        writer.writerows([[item] for item in set_times])\n",
    "\n",
    "    print(f\"File saved at: {file_path_list}\")\n",
    "\n",
    "    with open(file_path_set, 'w', newline='') as file:\n",
    "        writer = csv.writer(file)\n",
    "        writer.writerows([[item] for item in set_times])\n",
    "\n",
    "    print(f\"File saved at: {file_path_list}\")\n",
    "    print(f\"File saved at: {file_path_set}\")\n",
    "\n",
    "    # Initialize an empty list to store the values\n",
    "    set_times = []\n",
    "\n",
    "    # Read set_times.csv and load the values into the set_times array\n",
    "    with open('set_times.csv', 'r') as file:\n",
    "    reader = csv.reader(file)\n",
    "    # Convert each row to an integer and append it to set_times\n",
    "    set_times = [int(row[0]) for row in reader]\n",
    "\n",
    "    # Plotting the results\n",
    "    plt.figure(figsize=(8, 4))\n",
    "\n",
    "    plt.title('Time to Create a List vs a List Comprehension vs a Set; All-At-Once')\n",
    "    plt.plot(sizes, list_times_AAO, label=\"List \")\n",
    "    plt.plot(sizes, set_times_AAO,  label=\"Set \")\n",
    "\n",
    "    plt.xlabel('Number of Elements (n)')\n",
    "    plt.ylabel('Time (seconds)')\n",
    "    plt.legend()\n",
    "    plt.grid(True)\n",
    "    plt.show()\n"
   ]
  },
  {
   "cell_type": "markdown",
   "id": "c8a59a15",
   "metadata": {},
   "source": [
    "This next cell times the creation of lists and sets by appending or adding one element at a time.\n",
    "In each case, Python will first create an empty data structure, then extend it as you add elements.\n",
    "However, we will see that this is not much more expensive than the previous, but Python is smart about the way it resizes the data structures and allocates memory. "
   ]
  },
  {
   "cell_type": "code",
   "execution_count": null,
   "id": "b9a90564",
   "metadata": {
    "scrolled": true
   },
   "outputs": [],
   "source": [
    "# Function to create a list One element At A Time\n",
    "def create_list_OAAT(n):\n",
    "    lst = []\n",
    "    for k in range(n):\n",
    "        lst.append(k)\n",
    "\n",
    "# Similar for sets\n",
    "def create_set_OAAT(n):\n",
    "    s = set()\n",
    "    for k in range(n):\n",
    "        s.add(k)\n",
    "\n",
    "# Lists to store results\n",
    "list_times_OAAT = []\n",
    "set_times_OAAT = []\n",
    "\n",
    "sizes = list(range(0,10**4,100))\n",
    "\n",
    "num_iterations = 500\n",
    "\n",
    "# Measure the time for each input size\n",
    "for size in tqdm(sizes):\n",
    "# for size in tqdm(sizes):\n",
    "\n",
    "    # Note: if you want to do multiple iterations, you must use anonymous function lambda: f(..)\n",
    "    list_time = timeit.timeit(lambda: create_list_OAAT(size), number=num_iterations)\n",
    "    set_time = timeit.timeit(lambda:  create_set_OAAT(size),  number=num_iterations)\n",
    "    \n",
    "    list_times_OAAT.append(list_time/num_iterations)   # be sure to normalize by num_iterations\n",
    "    set_times_OAAT.append(set_time/num_iterations)\n",
    "\n",
    "# Plotting the results\n",
    "plt.figure(figsize=(8, 4))\n",
    "\n",
    "plt.title('Time to Create a List vs a Set; One-At-A-Time')\n",
    "plt.plot(sizes, list_times_OAAT, label=\"List \")\n",
    "plt.plot(sizes, set_times_OAAT, label=\"Set \")\n",
    "\n",
    "plt.xlabel('Number of Elements (n)')\n",
    "plt.ylabel('Time (seconds)')\n",
    "plt.legend()\n",
    "plt.grid(True)\n",
    "plt.show()\n"
   ]
  },
  {
   "cell_type": "markdown",
   "id": "1bca57f3",
   "metadata": {},
   "source": [
    "Since we've already create the timing data, let's compare them on the same graph!"
   ]
  },
  {
   "cell_type": "code",
   "execution_count": null,
   "id": "76fbd2c1",
   "metadata": {
    "scrolled": true
   },
   "outputs": [],
   "source": [
    "# Plotting the results\n",
    "plt.figure(figsize=(8, 4))\n",
    "\n",
    "plt.title('Time to Create a List vs a Set; All at Once vs One at a Time')\n",
    "plt.plot(sizes, list_times_AAO, label=\"List AAO\")\n",
    "plt.plot(sizes, set_times_AAO, label=\"Set AAO\")\n",
    "plt.plot(sizes, list_times_OAAT, label=\"List OAAT\")\n",
    "plt.plot(sizes, set_times_OAAT, label=\"Set OAAT\")\n",
    "\n",
    "plt.xlabel('Number of Elements (n)')\n",
    "plt.ylabel('Time (seconds)')\n",
    "plt.legend()\n",
    "plt.grid(True)\n",
    "plt.show()"
   ]
  },
  {
   "cell_type": "markdown",
   "id": "bf28df4f",
   "metadata": {},
   "source": [
    "Finally, let's see what happens when we search for an element in the data structure. **Here is where we see the enormous benefit of using sets (or dictionaries) instead of lists**.\n",
    "\n",
    "Note: Be sure to understand that this is not just an **access** of an element when we know exactly where it is (say, referring to lst[index]), but rather finding an element in an unordered list, when we don't know where it is. "
   ]
  },
  {
   "cell_type": "code",
   "execution_count": null,
   "id": "730726d1",
   "metadata": {},
   "outputs": [],
   "source": [
    "# Function to simply create a list of size n\n",
    "def search_list(lst,n):\n",
    "    return n in lst\n",
    "\n",
    "# Function to simply create a set of size n\n",
    "def search_set(s,n):\n",
    "    return n in s\n",
    "\n",
    "# Lists to store results\n",
    "list_times_search = []\n",
    "set_times_search = []\n",
    "\n",
    "sizes = list(range(0,10**4,100))        # 0, 100, 200, ..., 10**4\n",
    "\n",
    "n_iterations = 500                      # how many iterations to average over\n",
    "\n",
    "# Measure the time for each input size\n",
    "\n",
    "# for size in sizes:\n",
    "for size in tqdm(sizes):\n",
    "    \n",
    "    lst = list(range(size))\n",
    "    s   = set (range(size))\n",
    "\n",
    "    # Note: if you want to do multiple iterations, you must use anonymous function lambda: f(..)\n",
    "    list_time = timeit.timeit(lambda: search_list(lst,size-1), number=n_iterations)\n",
    "    set_time  = timeit.timeit(lambda: search_set (s,  size-1), number=n_iterations)\n",
    "    \n",
    "    list_times_search.append(list_time/n_iterations)   # be sure to normalize by num_iterations\n",
    "    set_times_search.append(set_time  /n_iterations)\n",
    "\n",
    "# Plotting the results\n",
    "plt.figure(figsize=(8, 4))\n",
    "\n",
    "plt.title('Worst Case Time to Search a List vs a Set ')\n",
    "plt.plot(sizes, list_times_search, label=\"List \")\n",
    "plt.plot(sizes, set_times_search,  label=\"Set \")\n",
    "\n",
    "plt.xlabel('Number of Elements (n)')\n",
    "plt.ylabel('Time (seconds)')\n",
    "plt.legend()\n",
    "plt.grid(True)\n",
    "plt.show()\n"
   ]
  },
  {
   "cell_type": "code",
   "execution_count": null,
   "id": "ca5efc61",
   "metadata": {
    "scrolled": false
   },
   "outputs": [],
   "source": [
    "# importing mean() \n",
    "from statistics import mean \n",
    "\n",
    "# Plotting the results\n",
    "plt.figure(figsize=(8, 4))\n",
    "\n",
    "plt.title('Worst Case Time to Search a List vs a Set ')\n",
    "# plt.plot(sizes, list_times_search, label=\"List \")\n",
    "plt.plot(sizes, set_times_search,  label=\"Set \")\n",
    "\n",
    "plt.xlabel('Number of Elements (n)')\n",
    "plt.ylabel('Time (seconds)')\n",
    "plt.legend()\n",
    "plt.grid(True)\n",
    "plt.show()\n",
    "\n",
    "print(f\"Mean time to search a list: {mean(list_times_search):.10f}\")\n",
    "print(f\"Mean time to search a set:  {mean(set_times_search):.15f}\")\n"
   ]
  }
 ],
 "metadata": {
  "kernelspec": {
   "display_name": "Python 3 (ipykernel)",
   "language": "python",
   "name": "python3"
  },
  "language_info": {
   "codemirror_mode": {
    "name": "ipython",
    "version": 3
   },
   "file_extension": ".py",
   "mimetype": "text/x-python",
   "name": "python",
   "nbconvert_exporter": "python",
   "pygments_lexer": "ipython3",
   "version": "3.12.1"
  }
 },
 "nbformat": 4,
 "nbformat_minor": 5
}
